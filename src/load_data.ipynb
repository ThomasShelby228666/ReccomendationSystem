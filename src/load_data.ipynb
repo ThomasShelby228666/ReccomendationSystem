{
 "cells": [
  {
   "cell_type": "code",
   "id": "b1e5b652628ef64c",
   "metadata": {
    "ExecuteTime": {
     "end_time": "2025-10-23T08:56:15.594984Z",
     "start_time": "2025-10-23T08:56:15.139270Z"
    }
   },
   "source": "import pandas as pd",
   "outputs": [],
   "execution_count": 1
  },
  {
   "metadata": {
    "collapsed": true,
    "ExecuteTime": {
     "end_time": "2025-10-23T08:56:15.614335Z",
     "start_time": "2025-10-23T08:56:15.604094Z"
    }
   },
   "cell_type": "code",
   "source": "# Для комментов",
   "id": "initial_id",
   "outputs": [],
   "execution_count": 2
  },
  {
   "metadata": {
    "ExecuteTime": {
     "end_time": "2025-10-23T08:56:15.625750Z",
     "start_time": "2025-10-23T08:56:15.620730Z"
    }
   },
   "cell_type": "code",
   "source": [
    "def load_data(path: str) -> pd.DataFrame:\n",
    "    df = pd.read_csv(path)\n",
    "    required_cols = {\"id\", \"title\", \"overview\"}\n",
    "    if not required_cols.issubset(df.columns):\n",
    "        raise ValueError(f\"Колонки: {required_cols} должны присутствовать в датасете.\")\n",
    "    return df"
   ],
   "id": "e443cdd194b50b5b",
   "outputs": [],
   "execution_count": 3
  },
  {
   "metadata": {
    "ExecuteTime": {
     "end_time": "2025-10-23T08:27:44.744555Z",
     "start_time": "2025-10-23T08:27:44.724737Z"
    }
   },
   "cell_type": "code",
   "source": [
    "def clean_data(df: pd.DataFrame) -> pd.DataFrame:\n",
    "    df = df.dropna(subset=[\"overview\"])\n",
    "    return df"
   ],
   "id": "e08ff0065a2c24c1",
   "outputs": [],
   "execution_count": 3
  },
  {
   "metadata": {
    "ExecuteTime": {
     "end_time": "2025-10-23T08:36:26.090408Z",
     "start_time": "2025-10-23T08:36:26.075325Z"
    }
   },
   "cell_type": "code",
   "source": [
    "def filter_by_vote_count(df: pd.DataFrame, quantile: float = 0.7) -> pd.DataFrame:\n",
    "    threshold = df[\"vote_count\"].quantile(quantile)\n",
    "    df_filtered = df[df[\"vote_count\"] > threshold].copy()\n",
    "    return df_filtered"
   ],
   "id": "6ef0fddd1be4902b",
   "outputs": [],
   "execution_count": 11
  },
  {
   "metadata": {
    "ExecuteTime": {
     "end_time": "2025-10-23T08:36:36.226782Z",
     "start_time": "2025-10-23T08:36:27.469999Z"
    }
   },
   "cell_type": "code",
   "source": [
    "if __name__ == \"__main__\":\n",
    "    df = load_data(\"../data/TMDB_movie_dataset_v11.csv\")\n",
    "    print(\"Датасет загружен.\")\n",
    "    print(df.shape)\n",
    "\n",
    "    df = clean_data(df)\n",
    "    print(\"Очистка датасета.\")\n",
    "    print(df.shape)\n",
    "\n",
    "    df = filter_by_vote_count(df, quantile=0.7)\n",
    "    print(\"Фильтрация датасета по vote_count.\")\n",
    "    print(df.shape)\n",
    "\n",
    "    print(df[[\"title\", \"vote_average\", \"vote_count\", \"genres\", \"overview\"]].head())"
   ],
   "id": "1afbd80dffc68ebf",
   "outputs": [
    {
     "name": "stdout",
     "output_type": "stream",
     "text": [
      "Датасет загружен.\n",
      "(1307623, 24)\n",
      "Очистка датасета.\n",
      "(1017523, 24)\n",
      "Фильтрация датасета по vote_count.\n",
      "(210447, 24)\n",
      "             title  vote_average  vote_count  \\\n",
      "0        Inception         8.364       34495   \n",
      "1     Interstellar         8.417       32571   \n",
      "2  The Dark Knight         8.512       30619   \n",
      "3           Avatar         7.573       29815   \n",
      "4     The Avengers         7.710       29166   \n",
      "\n",
      "                                        genres  \\\n",
      "0           Action, Science Fiction, Adventure   \n",
      "1            Adventure, Drama, Science Fiction   \n",
      "2               Drama, Action, Crime, Thriller   \n",
      "3  Action, Adventure, Fantasy, Science Fiction   \n",
      "4           Science Fiction, Action, Adventure   \n",
      "\n",
      "                                            overview  \n",
      "0  Cobb, a skilled thief who commits corporate es...  \n",
      "1  The adventures of a group of explorers who mak...  \n",
      "2  Batman raises the stakes in his war on crime. ...  \n",
      "3  In the 22nd century, a paraplegic Marine is di...  \n",
      "4  When an unexpected enemy emerges and threatens...  \n"
     ]
    }
   ],
   "execution_count": 12
  },
  {
   "metadata": {
    "ExecuteTime": {
     "end_time": "2025-10-23T08:59:50.934242Z",
     "start_time": "2025-10-23T08:59:50.916404Z"
    }
   },
   "cell_type": "code",
   "source": "print(\"asdfghjkl;'\")",
   "id": "3e06498e70567bc",
   "outputs": [
    {
     "name": "stdout",
     "output_type": "stream",
     "text": [
      "asdfghjkl;'\n"
     ]
    }
   ],
   "execution_count": 4
  },
  {
   "metadata": {},
   "cell_type": "code",
   "outputs": [],
   "execution_count": null,
   "source": "",
   "id": "13e9310f6cc35fdd"
  }
 ],
 "metadata": {
  "kernelspec": {
   "display_name": "Python 3",
   "language": "python",
   "name": "python3"
  },
  "language_info": {
   "codemirror_mode": {
    "name": "ipython",
    "version": 2
   },
   "file_extension": ".py",
   "mimetype": "text/x-python",
   "name": "python",
   "nbconvert_exporter": "python",
   "pygments_lexer": "ipython2",
   "version": "2.7.6"
  }
 },
 "nbformat": 4,
 "nbformat_minor": 5
}
